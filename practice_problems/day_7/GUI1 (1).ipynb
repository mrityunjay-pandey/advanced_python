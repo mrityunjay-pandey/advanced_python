{
 "cells": [
  {
   "cell_type": "markdown",
   "id": "5a74b9d3-1c4e-45d9-a11b-f4a8c3cb091b",
   "metadata": {},
   "source": [
    "Import all the modules of tkinter"
   ]
  },
  {
   "cell_type": "code",
   "execution_count": 1,
   "id": "17cbec91-72aa-4a69-a42b-d1bebde4dd2d",
   "metadata": {},
   "outputs": [],
   "source": [
    "from tkinter import *"
   ]
  },
  {
   "cell_type": "markdown",
   "id": "d66b1a64-92e5-47bc-a07d-e9c69a5a4eeb",
   "metadata": {},
   "source": [
    "Create a window"
   ]
  },
  {
   "cell_type": "code",
   "execution_count": 2,
   "id": "f0cffe90-f8d1-43be-b2d9-786e50c7ab30",
   "metadata": {},
   "outputs": [],
   "source": [
    "from tkinter import *\n",
    "window = Tk()   # Create the main window which is an object of Tk class\n",
    "window.mainloop()"
   ]
  },
  {
   "cell_type": "markdown",
   "id": "8fa5cfc3-d597-41ff-a2c2-f4034adaa0ae",
   "metadata": {},
   "source": [
    "Create window Title"
   ]
  },
  {
   "cell_type": "code",
   "execution_count": 4,
   "id": "23f04fb0-02d5-42e0-8fed-b10d50debb62",
   "metadata": {},
   "outputs": [],
   "source": [
    "from tkinter import *\n",
    "window = Tk()\n",
    "window.title(\"Hello, NIET!\")\n",
    "window.mainloop()"
   ]
  },
  {
   "cell_type": "markdown",
   "id": "e6c018d0-95d1-4211-911a-aec76c6f889f",
   "metadata": {},
   "source": [
    "set default widow size"
   ]
  },
  {
   "cell_type": "code",
   "execution_count": 5,
   "id": "ab999b05-72da-49ce-a1dd-247c43594f2d",
   "metadata": {},
   "outputs": [],
   "source": [
    "from tkinter import *\n",
    "window = Tk()     \n",
    "window.title(\"Hello, NIET!\")\n",
    "window.geometry('800x200')  #to set default widow size, but it can be maximized\n",
    "window.mainloop()"
   ]
  },
  {
   "cell_type": "markdown",
   "id": "6c322edd-6b7a-4aec-9750-11bef4606e88",
   "metadata": {},
   "source": [
    "change window background colour"
   ]
  },
  {
   "cell_type": "code",
   "execution_count": 6,
   "id": "a158f837-2a96-42d5-9017-71fee343327e",
   "metadata": {},
   "outputs": [],
   "source": [
    "from tkinter import *\n",
    "window = Tk()     \n",
    "window.title(\"Hello, NIET!\")\n",
    "window.config(bg = \"blue\")  \n",
    "window.mainloop()"
   ]
  },
  {
   "cell_type": "markdown",
   "id": "e421b235-7ceb-4e74-b727-b569287a0a82",
   "metadata": {},
   "source": [
    "Create a Label, Label is used to put content, image etc.,  \n",
    "Pack is used to place widget in the window"
   ]
  },
  {
   "cell_type": "code",
   "execution_count": 7,
   "id": "f449a7f0-06b1-4b6a-854f-4f539c9d8412",
   "metadata": {},
   "outputs": [],
   "source": [
    "from tkinter import *\n",
    "window = Tk()     \n",
    "window.title(\"Hello, NIET!\")\n",
    "window.geometry('800x200')\n",
    "label = Label(window, text=\"Hello, Students!\")\n",
    "label.pack()\n",
    "window.mainloop()"
   ]
  },
  {
   "cell_type": "markdown",
   "id": "fba0d00d-2ba6-485f-a28a-cb244540f5bd",
   "metadata": {},
   "source": [
    "Change label font and font size"
   ]
  },
  {
   "cell_type": "code",
   "execution_count": 68,
   "id": "e684b44b-8a58-4fec-a41f-8b18b52b077a",
   "metadata": {},
   "outputs": [],
   "source": [
    "from tkinter import *\n",
    "window = Tk()     \n",
    "window.title(\"Hello, NIET!\")\n",
    "window.geometry('800x200')\n",
    "label = Label(window, text=\"Hello, Students!\", font=(\"Arial Bold\", 30))\n",
    "label.pack()\n",
    "window.mainloop()"
   ]
  },
  {
   "cell_type": "markdown",
   "id": "6e168a62-5674-430b-9b49-23add02b8603",
   "metadata": {},
   "source": [
    "Change foreground and background colour of label"
   ]
  },
  {
   "cell_type": "code",
   "execution_count": 8,
   "id": "7daf4b53-bf97-4bb1-9a40-e0388e896331",
   "metadata": {},
   "outputs": [],
   "source": [
    "from tkinter import *\n",
    "window = Tk()     \n",
    "window.title(\"Hello, NIET!\")\n",
    "window.geometry('800x200')\n",
    "label = Label(window, text=\"Hello, Students!\", font=(\"Arial Bold\", 30))\n",
    "label.config(bg= \"red\", fg= \"white\")\n",
    "label.pack()\n",
    "window.mainloop()"
   ]
  },
  {
   "cell_type": "markdown",
   "id": "885b7084-33f7-4c47-8223-56b0d89b11b3",
   "metadata": {},
   "source": [
    "Position of label within window, using padx and pady"
   ]
  },
  {
   "cell_type": "code",
   "execution_count": 9,
   "id": "c868c66f-ec39-48f1-96d1-66ee1bab36f2",
   "metadata": {},
   "outputs": [],
   "source": [
    "from tkinter import *\n",
    "window = Tk()     \n",
    "window.title(\"Hello, NIET!\")\n",
    "window.geometry('800x200')\n",
    "label = Label(window, text=\"Hello, Students!\", font=(\"Arial Bold\", 30))\n",
    "label.config(bg= \"red\", fg= \"white\")\n",
    "label.pack(side = \"left\", padx=50, pady=150)  # Pack the label into the window\n",
    "\n",
    "window.mainloop()"
   ]
  },
  {
   "cell_type": "markdown",
   "id": "57075222-4534-4516-824a-987b97247f7b",
   "metadata": {},
   "source": [
    "creating Button. using Button class"
   ]
  },
  {
   "cell_type": "code",
   "execution_count": 10,
   "id": "55c872dd-5438-4868-b228-dc80def5eef4",
   "metadata": {},
   "outputs": [
    {
     "name": "stdout",
     "output_type": "stream",
     "text": [
      "Button clicked!\n",
      "Button clicked!\n",
      "Button clicked!\n",
      "Button clicked!\n"
     ]
    }
   ],
   "source": [
    "from tkinter import *\n",
    "\n",
    "window = Tk()     \n",
    "window.title(\"Hello, NIET!\")\n",
    "window.geometry('800x200')\n",
    "def button_clicked():          #method to call on click of the button\n",
    "    print(\"Button clicked!\")\n",
    "\n",
    "button = Button(window, text=\"Hello, Students!! Click Me\", command=button_clicked)\n",
    "button.pack(padx=20, pady=20)\n",
    "\n",
    "window.mainloop()"
   ]
  },
  {
   "cell_type": "code",
   "execution_count": 12,
   "id": "40f16e75-a352-485c-98ee-6d4dddc27b7a",
   "metadata": {},
   "outputs": [],
   "source": [
    "from tkinter import *\n",
    "\n",
    "# Create the main window which is an object of Tk class\n",
    "window = Tk()     \n",
    "window.title(\"Hello, NIET!\")\n",
    "window.geometry('800x200')\n",
    "\n",
    "def button_clicked():\n",
    "    button.config(text=\"Good Job\", font=(\"Arial Bold\", 30), bg= \"red\", fg= \"white\")\n",
    "\n",
    "button = Button(window, text=\"Hello, Students!! Click Me\", command=button_clicked)\n",
    "button.pack(padx=20, pady=20)\n",
    "\n",
    "window.mainloop()"
   ]
  },
  {
   "cell_type": "markdown",
   "id": "7c97a2ea-32d6-486b-96e5-822f686dec58",
   "metadata": {},
   "source": [
    "Scale widget"
   ]
  },
  {
   "cell_type": "code",
   "execution_count": 15,
   "id": "da12f1a6-5f77-441d-a1c0-3f8881bfb425",
   "metadata": {},
   "outputs": [],
   "source": [
    "from tkinter import *\n",
    "\n",
    "window = Tk()\n",
    "window.title(\"Scale Example\")\n",
    "window.geometry('800x200')\n",
    "\n",
    "# Create a scale widget\n",
    "scale = Scale(window, from_=0, to=1000, orient= tk.HORIZONTAL)\n",
    "scale.pack()\n",
    "\n",
    "window.mainloop()"
   ]
  },
  {
   "cell_type": "markdown",
   "id": "8afb03b7-8ce8-4fb5-ac87-9337d0da29f9",
   "metadata": {},
   "source": [
    "Spinbox widget"
   ]
  },
  {
   "cell_type": "code",
   "execution_count": 16,
   "id": "6029fe44-3b9c-4ab7-b685-79653808211f",
   "metadata": {},
   "outputs": [],
   "source": [
    "import tkinter as tk\n",
    "\n",
    "window = tk.Tk()\n",
    "window.title(\"Spinbox Example\")\n",
    "window.geometry('800x200')\n",
    "\n",
    "# Create a spinbox widget\n",
    "spinbox = tk.Spinbox(window, from_=0, to=10)\n",
    "spinbox.pack()\n",
    "\n",
    "window.mainloop()"
   ]
  },
  {
   "cell_type": "markdown",
   "id": "37709d21-bbad-4397-a9fd-aea6c2ed6574",
   "metadata": {},
   "source": [
    "Checkbutton widget"
   ]
  },
  {
   "cell_type": "code",
   "execution_count": 17,
   "id": "8f9b47ff-4e2c-4c4b-92c1-9a9a985a6099",
   "metadata": {},
   "outputs": [],
   "source": [
    "import tkinter as tk\n",
    "\n",
    "window = tk.Tk()\n",
    "window.title(\"Checkbutton Example\")\n",
    "window.geometry('800x200')\n",
    "\n",
    "# Create a Checkbutton widget\n",
    "check_var = tk.BooleanVar()\n",
    "checkbutton = tk.Checkbutton(window, text=\"Check me\", variable=check_var)\n",
    "checkbutton.pack()\n",
    "\n",
    "window.mainloop()"
   ]
  },
  {
   "cell_type": "markdown",
   "id": "43a40f51-901d-4025-8eb6-17f8937d1845",
   "metadata": {},
   "source": [
    "Radiobutton widget"
   ]
  },
  {
   "cell_type": "code",
   "execution_count": 18,
   "id": "9385c75c-fe61-48f7-af32-ba0f866dbecd",
   "metadata": {},
   "outputs": [],
   "source": [
    "import tkinter as tk\n",
    "\n",
    "window = tk.Tk()\n",
    "window.title(\"Radiobutton Example\")\n",
    "window.geometry('800x200')\n",
    "\n",
    "# Create Radiobutton widgets\n",
    "radio_var = tk.StringVar()\n",
    "radiobutton1 = tk.Radiobutton(window, text=\"Male\", variable=radio_var, value=\"male\")\n",
    "radiobutton2 = tk.Radiobutton(window, text=\"Female\", variable=radio_var, value=\"female\")\n",
    "\n",
    "radiobutton1.pack()\n",
    "radiobutton2.pack()\n",
    "\n",
    "window.mainloop()"
   ]
  },
  {
   "cell_type": "markdown",
   "id": "1a73d4b1-c00b-47d2-8e35-80576f794ac1",
   "metadata": {},
   "source": [
    "listbox widget"
   ]
  },
  {
   "cell_type": "code",
   "execution_count": 19,
   "id": "78c0cc63-fab5-4780-8f0d-7d776c2dfbcb",
   "metadata": {},
   "outputs": [],
   "source": [
    "import tkinter as tk\n",
    "\n",
    "window = tk.Tk()\n",
    "window.title(\"listbox Example\")\n",
    "window.geometry('800x200')\n",
    "\n",
    "# Create a Listbox widget\n",
    "listbox = tk.Listbox(window)\n",
    "listbox.insert(1, \"Option 1\")\n",
    "listbox.insert(2, \"Option 2\")\n",
    "listbox.insert(3, \"Option 3\")\n",
    "listbox.pack()\n",
    "\n",
    "window.mainloop()"
   ]
  },
  {
   "cell_type": "markdown",
   "id": "5136dbf6-8c42-41fa-ab16-c90f08ec7ba9",
   "metadata": {},
   "source": [
    "combobox widget"
   ]
  },
  {
   "cell_type": "code",
   "execution_count": 20,
   "id": "f681a8ff-362b-4270-9885-6d5cf4445246",
   "metadata": {},
   "outputs": [],
   "source": [
    "import tkinter as tk\n",
    "from tkinter.ttk import Combobox\n",
    "\n",
    "window = tk.Tk()\n",
    "window.title(\"combobox Example\")\n",
    "window.geometry('800x200')\n",
    "\n",
    "def combobox_selected(event):\n",
    "    selected_value = combobox.get()\n",
    "    label.config(text=f\"Selected: {selected_value}\")\n",
    "\n",
    "# Create a label to display the selected value\n",
    "label = Label(window, text=\"Select an option:\")\n",
    "label.pack(padx=20, pady=10)\n",
    "\n",
    "# Create a Combobox widget\n",
    "options = [\"Option 1\", \"Option 2\", \"Option 3\"]\n",
    "combobox  = Combobox(window, values=options)\n",
    "combobox.pack(padx=20, pady=10)\n",
    "\n",
    "# Bind the combobox selection event to the handler\n",
    "combobox.bind(\"<<ComboboxSelected>>\", combobox_selected)\n",
    "\n",
    "window.mainloop()"
   ]
  },
  {
   "cell_type": "code",
   "execution_count": null,
   "id": "547bb3b5-c8c5-404e-bdca-090a6624d4de",
   "metadata": {},
   "outputs": [],
   "source": [
    "Entry Widget"
   ]
  },
  {
   "cell_type": "code",
   "execution_count": 22,
   "id": "a248acad-70f0-48ea-a846-a52b020f0d31",
   "metadata": {},
   "outputs": [],
   "source": [
    "import tkinter as tk\n",
    "\n",
    "window = tk.Tk()\n",
    "window.title(\"Entry Example\")\n",
    "window.geometry('800x200')\n",
    "\n",
    "# Create an Entry widget\n",
    "entry = tk.Entry(window, text = \"Enter here\")\n",
    "entry.pack()\n",
    "\n",
    "window.mainloop()"
   ]
  },
  {
   "cell_type": "markdown",
   "id": "fc10db38-4035-40b9-a0d8-067579e7eb75",
   "metadata": {},
   "source": [
    "Loginpage using pack"
   ]
  },
  {
   "cell_type": "code",
   "execution_count": 23,
   "id": "cf20f938-637b-44de-b953-a8fc5abaecc6",
   "metadata": {},
   "outputs": [],
   "source": [
    "from tkinter import *\n",
    "\n",
    "# Create the main window\n",
    "window = Tk()\n",
    "window.title(\"Login Example\")\n",
    "window.geometry('800x200')\n",
    "\n",
    "def submit_clicked():\n",
    "    result_label.config(text=\"Good Job\")\n",
    "\n",
    "# Username label and entry\n",
    "username_label = Label(window, text=\"Username:\")\n",
    "username_label.pack(padx=20, pady=5)\n",
    "\n",
    "username_entry = Entry(window)\n",
    "username_entry.pack(padx=20, pady=5)\n",
    "\n",
    "# Password label and entry\n",
    "password_label = Label(window, text=\"Password:\")\n",
    "password_label.pack(padx=20, pady=5)\n",
    "\n",
    "password_entry = Entry(window, show=\"*\")\n",
    "password_entry.pack(padx=20, pady=5)\n",
    "\n",
    "# Submit button\n",
    "submit_button = Button(window, text=\"Submit\", command=submit_clicked)\n",
    "submit_button.pack(padx=20, pady=20)\n",
    "\n",
    "# Label to show the result\n",
    "result_label = Label(window, text=\"\")\n",
    "result_label.pack(padx=20, pady=5)\n",
    "\n",
    "window.mainloop()\n"
   ]
  },
  {
   "cell_type": "markdown",
   "id": "af07d977-210a-4a86-8cba-dfb9ac527ab1",
   "metadata": {},
   "source": [
    "Loginpage using grid"
   ]
  },
  {
   "cell_type": "code",
   "execution_count": 27,
   "id": "c3f883d1-ebaa-4c56-9922-9508c151dac5",
   "metadata": {},
   "outputs": [],
   "source": [
    "from tkinter import *\n",
    "# Create the main window\n",
    "window = Tk()\n",
    "window.title(\"Login Example\")\n",
    "\n",
    "def submit_clicked():\n",
    "    result_label.config(text=\"Good Job\")\n",
    "\n",
    "# Username label and entry\n",
    "username_label = Label(window, text=\"Username:\")\n",
    "username_label.grid(row=0, column=0, padx=10, pady=5)\n",
    "\n",
    "username_entry = Entry(window)\n",
    "username_entry.grid(row=0, column=1, padx=10, pady=5)\n",
    "\n",
    "# Password label and entry\n",
    "password_label = Label(window, text=\"Password:\")\n",
    "password_label.grid(row=1, column=0, padx=10, pady=5)\n",
    "\n",
    "password_entry = Entry(window, show=\"*\")\n",
    "password_entry.grid(row=1, column=1, padx=10, pady=5)\n",
    "\n",
    "# Submit button\n",
    "submit_button = Button(window, text=\"Submit\", command=submit_clicked)\n",
    "submit_button.grid(row=2, column=0, columnspan=2, pady=20)\n",
    "\n",
    "# Label to show the result\n",
    "result_label = Label(window, text=\"\")\n",
    "result_label.grid(row=3, column=0, columnspan=2, pady=5)\n",
    "\n",
    "window.mainloop()\n"
   ]
  },
  {
   "cell_type": "markdown",
   "id": "aff51fdd-911a-4c9e-a3b8-53fe1c50b4a5",
   "metadata": {},
   "source": [
    "DatePicker widget "
   ]
  },
  {
   "cell_type": "code",
   "execution_count": 2,
   "id": "520f0f6d-f8b5-4bcb-a596-2497c5952501",
   "metadata": {},
   "outputs": [
    {
     "name": "stdout",
     "output_type": "stream",
     "text": [
      "Collecting tkcalendar\n",
      "  Downloading tkcalendar-1.6.1-py3-none-any.whl.metadata (22 kB)\n",
      "Requirement already satisfied: babel in c:\\users\\cloud analogy\\anaconda3\\lib\\site-packages (from tkcalendar) (2.11.0)\n",
      "Requirement already satisfied: pytz>=2015.7 in c:\\users\\cloud analogy\\anaconda3\\lib\\site-packages (from babel->tkcalendar) (2023.3.post1)\n",
      "Downloading tkcalendar-1.6.1-py3-none-any.whl (40 kB)\n",
      "   ---------------------------------------- 0.0/40.9 kB ? eta -:--:--\n",
      "   ------------------------------ --------- 30.7/40.9 kB 1.4 MB/s eta 0:00:01\n",
      "   ---------------------------------------- 40.9/40.9 kB 652.6 kB/s eta 0:00:00\n",
      "Installing collected packages: tkcalendar\n",
      "Successfully installed tkcalendar-1.6.1\n"
     ]
    }
   ],
   "source": [
    "!pip install tkcalendar"
   ]
  },
  {
   "cell_type": "code",
   "execution_count": 28,
   "id": "899ab9fd-626f-4c88-a16a-99f3db2d0530",
   "metadata": {},
   "outputs": [],
   "source": [
    "from tkinter import *\n",
    "from tkcalendar import DateEntry\n",
    "\n",
    "root = Tk()\n",
    "root.title(\"Date Picker Example\")\n",
    "root.geometry('800x200')\n",
    "\n",
    "# Create a DateEntry widget\n",
    "date_entry = DateEntry(root)\n",
    "date_entry.pack()\n",
    "\n",
    "root.mainloop()"
   ]
  },
  {
   "cell_type": "markdown",
   "id": "c4603ea1-3f15-4f57-a9a2-4cad3d1f5819",
   "metadata": {},
   "source": [
    "Color Picker widget"
   ]
  },
  {
   "cell_type": "code",
   "execution_count": 30,
   "id": "5a177779-cef9-47e9-8b14-73cd5e19eb00",
   "metadata": {},
   "outputs": [
    {
     "name": "stdout",
     "output_type": "stream",
     "text": [
      "((128, 255, 255), '#80ffff')\n"
     ]
    }
   ],
   "source": [
    "import tkinter as tk\n",
    "from tkinter import colorchooser\n",
    "\n",
    "def choose_color():\n",
    "    color_code = colorchooser.askcolor(title=\"Choose a color\")\n",
    "    print(color_code)\n",
    "\n",
    "root = tk.Tk()\n",
    "root.title(\"Color Picker Example\")\n",
    "root.geometry('800x200')\n",
    "\n",
    "# Create a button to open the color picker\n",
    "button = tk.Button(root, text=\"Choose Color\", command=choose_color)\n",
    "button.pack()\n",
    "\n",
    "root.mainloop()"
   ]
  },
  {
   "cell_type": "markdown",
   "id": "3fecc186-874c-4463-a97e-e988147adff8",
   "metadata": {},
   "source": [
    "Frame Widget"
   ]
  },
  {
   "cell_type": "code",
   "execution_count": 31,
   "id": "875f3d16-8b09-4df0-ac26-bd9e16fa4bea",
   "metadata": {},
   "outputs": [],
   "source": [
    "import tkinter as tk\n",
    "\n",
    "root = tk.Tk()\n",
    "root.title(\"Frame Example\")\n",
    "root.geometry('800x200')\n",
    "\n",
    "# Create a Frame widget\n",
    "frame = tk.Frame(root, bg=\"lightblue\", width=200, height=100)\n",
    "frame.pack()\n",
    "\n",
    "root.mainloop()"
   ]
  },
  {
   "cell_type": "markdown",
   "id": "00a2e5b1-bd14-4998-9b9c-6f1f69e7c237",
   "metadata": {},
   "source": [
    "Canvas Widget"
   ]
  },
  {
   "cell_type": "code",
   "execution_count": 32,
   "id": "ac7ecc29-6859-47c5-b3f1-3ea369db9b87",
   "metadata": {},
   "outputs": [],
   "source": [
    "import tkinter as tk\n",
    "\n",
    "root = tk.Tk()\n",
    "root.title(\"Canvas Example\")\n",
    "\n",
    "# Create a Canvas widget\n",
    "canvas = tk.Canvas(root, width=400, height=300)\n",
    "canvas.pack()\n",
    "\n",
    "# Draw shapes on the canvas\n",
    "canvas.create_line(0, 0, 200, 100)\n",
    "canvas.create_rectangle(50, 50, 150, 150, fill=\"blue\")\n",
    "\n",
    "root.mainloop()"
   ]
  },
  {
   "cell_type": "markdown",
   "id": "bb547604-9c83-40ca-a29b-3f3b2cf78cc3",
   "metadata": {},
   "source": [
    "Application to add two numbers"
   ]
  },
  {
   "cell_type": "code",
   "execution_count": 34,
   "id": "50b291fb-3b7e-483b-8ac4-52ae042c0fd6",
   "metadata": {},
   "outputs": [],
   "source": [
    "from tkinter import *\n",
    "\n",
    "# Create the main window\n",
    "window = Tk()\n",
    "window.title(\"Sum Calculator\")\n",
    "window.geometry('800x200')\n",
    "\n",
    "def calculate_sum():\n",
    "    # Get the numbers from the entries\n",
    "    num1 = float(entry1.get())\n",
    "    num2 = float(entry2.get())\n",
    "    \n",
    "    # Calculate the sum\n",
    "    total = num1 + num2\n",
    "    \n",
    "    # Update the result label\n",
    "    result_label.config(text=f\"Sum: {total}\")\n",
    "\n",
    "# First number label and entry\n",
    "label1 = Label(window, text=\"Number 1:\")\n",
    "label1.grid(row=0, column=0, padx=10, pady=5)\n",
    "\n",
    "entry1 = Entry(window)\n",
    "entry1.grid(row=0, column=1, padx=10, pady=5)\n",
    "\n",
    "# Second number label and entry\n",
    "label2 = Label(window, text=\"Number 2:\")\n",
    "label2.grid(row=1, column=0, padx=10, pady=5)\n",
    "\n",
    "entry2 = Entry(window)\n",
    "entry2.grid(row=1, column=1, padx=10, pady=5)\n",
    "\n",
    "# Submit button\n",
    "submit_button = Button(window, text=\"Calculate Sum\", command=calculate_sum)\n",
    "submit_button.grid(row=2, column=0, columnspan=2, pady=10)\n",
    "\n",
    "# Label to show the result\n",
    "result_label = Label(window, text=\"Sum: \")\n",
    "result_label.grid(row=3, column=0, columnspan=2, pady=5)\n",
    "\n",
    "window.mainloop()"
   ]
  },
  {
   "cell_type": "markdown",
   "id": "9cbdf11e-5adb-4ca0-86b6-35a5dc60e721",
   "metadata": {},
   "source": [
    "Arithmetic calculator"
   ]
  },
  {
   "cell_type": "code",
   "execution_count": 35,
   "id": "00354231-7c78-4134-8843-c62dccd545db",
   "metadata": {},
   "outputs": [],
   "source": [
    "from tkinter import *\n",
    "\n",
    "# Create the main window\n",
    "window = Tk()\n",
    "window.title(\"Arithmetic Calculator\")\n",
    "window.geometry('800x200')\n",
    "\n",
    "def calculate():\n",
    "    # Get the numbers from the entries\n",
    "    try:\n",
    "        num1 = float(entry1.get())\n",
    "        num2 = float(entry2.get())\n",
    "    except ValueError:\n",
    "        result_label.config(text=\"Please enter valid numbers.\")\n",
    "        return\n",
    "    \n",
    "    # Get the selected operation\n",
    "    operation = operation_var.get()\n",
    "    \n",
    "    # Perform the selected operation\n",
    "    if operation == \"+\":\n",
    "        result = num1 + num2\n",
    "    elif operation == \"-\":\n",
    "        result = num1 - num2\n",
    "    elif operation == \"*\":\n",
    "        result = num1 * num2\n",
    "    elif operation == \"/\":\n",
    "        if num2 == 0:\n",
    "            result_label.config(text=\"Cannot divide by zero.\")\n",
    "            return\n",
    "        result = num1 / num2\n",
    "    else:\n",
    "        result_label.config(text=\"Please select an operation.\")\n",
    "        return\n",
    "    \n",
    "    # Update the result label\n",
    "    result_label.config(text=f\"Result: {result}\")\n",
    "\n",
    "# First number label and entry\n",
    "label1 = Label(window, text=\"Number 1:\")\n",
    "label1.grid(row=0, column=0, padx=10, pady=5)\n",
    "\n",
    "entry1 = Entry(window)\n",
    "entry1.grid(row=0, column=1, padx=10, pady=5)\n",
    "\n",
    "# Second number label and entry\n",
    "label2 = Label(window, text=\"Number 2:\")\n",
    "label2.grid(row=1, column=0, padx=10, pady=5)\n",
    "\n",
    "entry2 = Entry(window)\n",
    "entry2.grid(row=1, column=1, padx=10, pady=5)\n",
    "\n",
    "# Operation label and radio buttons\n",
    "operation_var = StringVar()\n",
    "operation_var.set(\"+\")\n",
    "\n",
    "label3 = Label(window, text=\"Operation:\")\n",
    "label3.grid(row=2, column=0, padx=10, pady=5)\n",
    "\n",
    "operations_frame = Frame(window)\n",
    "operations_frame.grid(row=2, column=1, padx=10, pady=5)\n",
    "\n",
    "radio_add = Radiobutton(operations_frame, text=\"+\", variable=operation_var, value=\"+\")\n",
    "radio_add.pack(side=LEFT)\n",
    "\n",
    "radio_subtract = Radiobutton(operations_frame, text=\"-\", variable=operation_var, value=\"-\")\n",
    "radio_subtract.pack(side=LEFT)\n",
    "\n",
    "radio_multiply = Radiobutton(operations_frame, text=\"*\", variable=operation_var, value=\"*\")\n",
    "radio_multiply.pack(side=LEFT)\n",
    "\n",
    "radio_divide = Radiobutton(operations_frame, text=\"/\", variable=operation_var, value=\"/\")\n",
    "radio_divide.pack(side=LEFT)\n",
    "\n",
    "# Submit button\n",
    "submit_button = Button(window, text=\"Calculate\", command=calculate)\n",
    "submit_button.grid(row=3, column=0, columnspan=2, pady=10)\n",
    "\n",
    "# Label to show the result\n",
    "result_label = Label(window, text=\"Result: \")\n",
    "result_label.grid(row=4, column=0, columnspan=2, pady=5)\n",
    "\n",
    "window.mainloop()"
   ]
  },
  {
   "cell_type": "code",
   "execution_count": null,
   "id": "33261d0f-c34c-4c9d-855e-a81afc23fcfc",
   "metadata": {},
   "outputs": [],
   "source": []
  }
 ],
 "metadata": {
  "kernelspec": {
   "display_name": "Python 3 (ipykernel)",
   "language": "python",
   "name": "python3"
  },
  "language_info": {
   "codemirror_mode": {
    "name": "ipython",
    "version": 3
   },
   "file_extension": ".py",
   "mimetype": "text/x-python",
   "name": "python",
   "nbconvert_exporter": "python",
   "pygments_lexer": "ipython3",
   "version": "3.11.7"
  }
 },
 "nbformat": 4,
 "nbformat_minor": 5
}
